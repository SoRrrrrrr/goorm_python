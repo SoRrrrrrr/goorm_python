{
 "cells": [
  {
   "cell_type": "markdown",
   "metadata": {},
   "source": [
    "# 한국어 word2vec 만들기"
   ]
  },
  {
   "cell_type": "code",
   "execution_count": 14,
   "metadata": {},
   "outputs": [],
   "source": [
    "import matplotlib.pyplot as plt\n",
    "import pandas as pd\n",
    "import numpy as np\n",
    "\n",
    "from konlpy.tag import Okt\n",
    "from gensim.models.word2vec import Word2Vec\n",
    "from gensim.models import KeyedVectors\n",
    "import json\n",
    "import os\n",
    "import chardet"
   ]
  },
  {
   "cell_type": "markdown",
   "metadata": {},
   "source": [
    "훈련 데이터 전처리"
   ]
  },
  {
   "cell_type": "code",
   "execution_count": 15,
   "metadata": {},
   "outputs": [
    {
     "ename": "FileNotFoundError",
     "evalue": "[Errno 2] No such file or directory: '구어_'",
     "output_type": "error",
     "traceback": [
      "\u001b[0;31m---------------------------------------------------------------------------\u001b[0m",
      "\u001b[0;31mFileNotFoundError\u001b[0m                         Traceback (most recent call last)",
      "Cell \u001b[0;32mIn[15], line 51\u001b[0m\n\u001b[1;32m     48\u001b[0m         \u001b[38;5;28mprint\u001b[39m(\u001b[38;5;124mf\u001b[39m\u001b[38;5;124m\"\u001b[39m\u001b[38;5;124mcould not decode JSON from \u001b[39m\u001b[38;5;132;01m{\u001b[39;00mfile_path\u001b[38;5;132;01m}\u001b[39;00m\u001b[38;5;124m\"\u001b[39m)\n\u001b[1;32m     49\u001b[0m         \u001b[38;5;28;01mreturn\u001b[39;00m \u001b[38;5;28;01mNone\u001b[39;00m\n\u001b[0;32m---> 51\u001b[0m \u001b[38;5;28;01mfor\u001b[39;00m file \u001b[38;5;129;01min\u001b[39;00m os\u001b[38;5;241m.\u001b[39mlistdir(folder[:\u001b[38;5;241m3\u001b[39m]):\n\u001b[1;32m     52\u001b[0m     \u001b[38;5;66;03m# os.path.join : 인수에 전달된 2개의 문자열을 결합하여, 1개의 경로로 할 수 있음\u001b[39;00m\n\u001b[1;32m     53\u001b[0m     file_path \u001b[38;5;241m=\u001b[39m os\u001b[38;5;241m.\u001b[39mpath\u001b[38;5;241m.\u001b[39mjoin(folder, file)\n\u001b[1;32m     54\u001b[0m     load_data(file_path)\n",
      "\u001b[0;31mFileNotFoundError\u001b[0m: [Errno 2] No such file or directory: '구어_'"
     ]
    }
   ],
   "source": [
    "### 전체 파일 사용하는 코드 (수정 필요)\n",
    "folder = '구어_말뭉치'\n",
    "## \"document\" -> \"utterance\" -> \"form\" 내용 parsing\n",
    "utterance_forms = []\n",
    "\n",
    "def load_data(file_path):\n",
    "    try:\n",
    "        try:\n",
    "            with open(file_path, 'r', encoding='utf-8') as file:\n",
    "                parsed_data = json.load(file)\n",
    "\n",
    "                for doc in parsed_data['document']:\n",
    "                    for utterance in doc['utterance']:\n",
    "                        utterance_forms.append(utterance['form'])\n",
    "\n",
    "                korean_stopwords = [\n",
    "                    '이', '그', '저', '것', '수', '등', '들', '여기', '저기', '거기', '너', '나', '우리', '저희', \n",
    "                    '그들', '그녀', '그것', '이것', '저것', '무엇', '어떤', '모두', '전부', '한', '에', '가', '를', \n",
    "                    '을', '의', '에게', '와', '과', '하고', '다', '부터', '까지', '에서', '에는', '은', '는', '로', \n",
    "                    '으로', '만', '말', '하다', '그렇다', '이렇다', '아니다', '이다', '그러나', '그래도', '하지만', \n",
    "                    '그러면', '그래서', '그러니까', '또는', '즉', '따라서', '하다', '라고', '이라고', '하면', '라면', \n",
    "                    '한다', '된다', '또', '이나', '입니다', '어느', '어떤', '무슨', '한데', '있다', '같다', '예를', \n",
    "                    '등을', '등의', '도', '에도', '있습니다', '.', '텐데요', '하는데요', '요', '하는', '되고', '되는', '합니다']\n",
    "\n",
    "                ## tokenizing\n",
    "                tokenized_text = []\n",
    "                # create instance\n",
    "                okt = Okt()\n",
    "\n",
    "                # 문장을 형태소 단위로 토크나이징\n",
    "                for sentence in utterance_forms:\n",
    "                    tokens = okt.morphs(sentence)\n",
    "                    # 불용어 제거\n",
    "                    filtered_tokens = [token for token in tokens if token not in korean_stopwords]\n",
    "                    tokenized_text.append(filtered_tokens)\n",
    "        except UnicodeDecodeError:\n",
    "            with open(file_path, 'rb') as file:\n",
    "                raw_data = file.read()\n",
    "                encoding = chardet.detect(raw_data)['encoding']\n",
    "                if encoding is None:\n",
    "                    print(f\"Unable to determine encoding for {file_path}.\")\n",
    "                    return None\n",
    "                data_dict = json.loads(raw_data.decode(encoding))\n",
    "    except FileNotFoundError:\n",
    "        print(f\"{file_path} does not exist.\")\n",
    "        return None\n",
    "    except json.JSONDecodeError:\n",
    "        print(f\"could not decode JSON from {file_path}\")\n",
    "        return None\n",
    "    \n",
    "for file in os.listdir(folder[:3]):\n",
    "    # os.path.join : 인수에 전달된 2개의 문자열을 결합하여, 1개의 경로로 할 수 있음\n",
    "    file_path = os.path.join(folder, file)\n",
    "    load_data(file_path)"
   ]
  },
  {
   "cell_type": "code",
   "execution_count": 7,
   "metadata": {},
   "outputs": [
    {
     "data": {
      "text/plain": [
       "[['요즘', '추운', '날씨'],\n",
       " ['따뜻한', '라테', '한잔', '찾는', '분들'],\n",
       " ['많으실'],\n",
       " ['라테', '위', '그려진'],\n",
       " ['다양한', '라테', '아트', '구경'],\n",
       " ['다른', '재미'],\n",
       " ['그런데', '최근'],\n",
       " ['라테아트', '넘어'],\n",
       " ['차가운', '커피', '위'],\n",
       " ['색색', '크림'],\n",
       " ['그림', '그리는'],\n",
       " ['크리', '마트', '인기'],\n",
       " ['크리', '마트', '개발', '바리스타', '청년'],\n",
       " ['오늘', '꿈', '잡아라', '소개'],\n",
       " ['커피', '중', '에서도'],\n",
       " ['부드러운', '라테'],\n",
       " ['우유', '와의', '궁합', '자랑'],\n",
       " ['대표', '적', '겨울', '음룐데'],\n",
       " ['특히', '라테', '위', '그려지는'],\n",
       " ['라테아트', '눈', '먼저'],\n",
       " ['즐거움', '선사', '해줍니다'],\n",
       " ['최근', '가장', '기본', '그림', '인'],\n",
       " ['로제타', '하트', '외'],\n",
       " ['글씨', '쓰기', '각종', '과일'],\n",
       " ['빵', '올려', '꾸미기까지'],\n",
       " ['다양한', '응용', '아트', '등장', '있는데요'],\n",
       " ['중심', '커피', '하얀', '우유', '만으로', '그림', '그리는'],\n",
       " ['라테아트', '넘어'],\n",
       " ['형형색색', '크림', '그림', '그리는'],\n",
       " ['크리', '마트'],\n",
       " ['어', '~', '크리', '마트', '일단', '라테아트'],\n",
       " ['스킬', '기술', '이름', '아니고요'],\n",
       " ['하나', '메뉴', '이름', '으로서'],\n",
       " ['우선', '따뜻한', '거', '생각', '많이', '하시는', '분', '많은데'],\n",
       " ['무조건', '차갑게만', '만들고', '커피', '포함'],\n",
       " ['차가운', '음료', '위', '위', '크림', '올리고'],\n",
       " ['크림', '위', '그림', '그려서'],\n",
       " ['하나', '예술', '성', '띄우는', '그런'],\n",
       " ['제', '만든', '창작', '메뉴', '생각', '하시면', '될', '같습니다'],\n",
       " ['크리', '마트', '만의', '메뉴', '개발', '몰두하던'],\n",
       " ['강빈', '바리스타', '지난', '이천십사', '년', '개발', '메뉸데'],\n",
       " ['본인', '실력', '뽐내는', '기술', '개발', '하기보다'],\n",
       " ['소비자', '특별한', '추억'],\n",
       " ['감동', '줄', '있는'],\n",
       " ['메뉴', '만들고', '싶었다고'],\n",
       " ['어', '~', '많이', '이제', '고민', '하시는', '부분', '이에요'],\n",
       " ['자기', '이런', '커피', '뭐', '만드는데'],\n",
       " ['소비자', '몰라주는'],\n",
       " ['전문가', '사람', '한테', '내', '잘', '커피'],\n",
       " ['무조건', '강요', '할라고', '게', '아니라'],\n",
       " ['사람', '원하는', '커피'],\n",
       " ['최선', '상태'],\n",
       " ['잘', '맞춰서', '제공', '할', '있는', '게'],\n",
       " ['제', '생각', '좋은', '바리스타', '생각', '하', '거든요'],\n",
       " ['수많은', '시행착오', '끝', '완성', '된', '크리', '마트'],\n",
       " ['이제', '국내', '넘어', '보라카이', '뉴욕', '시애틀'],\n",
       " ['해외', '에서도', '뜨거운', '반응', '얻고', '있는데요'],\n",
       " ['기분', '되게', '좋고'],\n",
       " ['아직', '근데', '뭐', '쪼금', '멀었다고', '생각'],\n",
       " ['진짜', '처음', '제', '꿈꾸는'],\n",
       " ['전', '세계', '판매', '되어야', '한다고', '생각', '하', '거든요'],\n",
       " ['모든', '카페', '아메리카노', '랑', '라테', '팔잖아요'],\n",
       " ['그런'],\n",
       " ['모든', '카페', '크리', '마트', '판매'],\n",
       " ['그런', '걸', '기대하고'],\n",
       " ['커피', '예술', '적', '감성', '더해'],\n",
       " ['향기', '맛', '시각', '충족', '시키는'],\n",
       " ['놀라운', '커피', '잔'],\n",
       " ['많은', '따뜻한', '위안']]"
      ]
     },
     "execution_count": 7,
     "metadata": {},
     "output_type": "execute_result"
    }
   ],
   "source": [
    "### 일단 파일 하나만 가지고 해보기\n",
    "targertJSON = open('./구어_말뭉치/SARW1800000001.json', 'r', encoding='utf-8')\n",
    "parsed_data = json.load(targertJSON)\n",
    "\n",
    "## \"document\" -> \"utterance\" -> \"form\" 내용 parsing\n",
    "utterance_forms = []\n",
    "\n",
    "for doc in parsed_data['document']:\n",
    "    for utterance in doc['utterance']:\n",
    "        utterance_forms.append(utterance['form'])\n",
    "\n",
    "korean_stopwords = [\n",
    "    '이', '그', '저', '것', '수', '등', '들', '여기', '저기', '거기', '너', '나', '우리', '저희', \n",
    "    '그들', '그녀', '그것', '이것', '저것', '무엇', '어떤', '모두', '전부', '한', '에', '가', '를', \n",
    "    '을', '의', '에게', '와', '과', '하고', '다', '부터', '까지', '에서', '에는', '은', '는', '로', \n",
    "    '으로', '만', '말', '하다', '그렇다', '이렇다', '아니다', '이다', '그러나', '그래도', '하지만', \n",
    "    '그러면', '그래서', '그러니까', '또는', '즉', '따라서', '하다', '라고', '이라고', '하면', '라면', \n",
    "    '한다', '된다', '또', '이나', '입니다', '어느', '어떤', '무슨', '한데', '있다', '같다', '예를', '처럼',\n",
    "    '등을', '등의', '도', '에도', '있습니다', '.', '텐데요', '하는데요', '요', '하는', '되고', '되는', '합니다']\n",
    "\n",
    "## tokenizing\n",
    "tokenized_text = []\n",
    "# create instance\n",
    "okt = Okt()\n",
    "\n",
    "# 문장을 형태소 단위로 토크나이징\n",
    "for sentence in utterance_forms:\n",
    "    tokens = okt.morphs(sentence)\n",
    "    # 불용어 제거\n",
    "    filtered_tokens = [token for token in tokens if token not in korean_stopwords]\n",
    "    tokenized_text.append(filtered_tokens)\n",
    "\n",
    "tokenized_text"
   ]
  },
  {
   "cell_type": "markdown",
   "metadata": {},
   "source": [
    "Word2Vec 훈련시키기"
   ]
  },
  {
   "cell_type": "code",
   "execution_count": 8,
   "metadata": {},
   "outputs": [],
   "source": [
    "model = Word2Vec(sentences=tokenized_text,vector_size=100, window=5, min_count=5, workers=4, sg=0)"
   ]
  },
  {
   "cell_type": "code",
   "execution_count": 9,
   "metadata": {},
   "outputs": [
    {
     "name": "stdout",
     "output_type": "stream",
     "text": [
      "[('위', 0.13887982070446014), ('생각', 0.13149002194404602), ('크리', 0.06408979743719101), ('그림', 0.01915229670703411), ('마트', 0.009391160681843758), ('커피', -0.05987628921866417)]\n"
     ]
    }
   ],
   "source": [
    "model_result = model.wv.most_similar('라테')\n",
    "print(model_result)"
   ]
  },
  {
   "cell_type": "markdown",
   "metadata": {},
   "source": [
    "Word2Vec 모델 저장 & 로드"
   ]
  },
  {
   "cell_type": "code",
   "execution_count": 10,
   "metadata": {},
   "outputs": [],
   "source": [
    "model.wv.save_word2vec_format('kor_w2v')\n",
    "loaded_model = KeyedVectors.load_word2vec_format(\"kor_w2v\")"
   ]
  },
  {
   "cell_type": "code",
   "execution_count": 11,
   "metadata": {},
   "outputs": [
    {
     "name": "stdout",
     "output_type": "stream",
     "text": [
      "[('위', 0.13887982070446014), ('생각', 0.13149002194404602), ('크리', 0.06408979743719101), ('그림', 0.01915229670703411), ('마트', 0.009391160681843758), ('커피', -0.05987628921866417)]\n"
     ]
    }
   ],
   "source": [
    "# 모델 로드 하기 전의 결과와 동일하게\n",
    "model_result = loaded_model.most_similar(\"라테\")\n",
    "print(model_result)"
   ]
  },
  {
   "cell_type": "code",
   "execution_count": null,
   "metadata": {},
   "outputs": [],
   "source": []
  }
 ],
 "metadata": {
  "kernelspec": {
   "display_name": "base",
   "language": "python",
   "name": "python3"
  },
  "language_info": {
   "codemirror_mode": {
    "name": "ipython",
    "version": 3
   },
   "file_extension": ".py",
   "mimetype": "text/x-python",
   "name": "python",
   "nbconvert_exporter": "python",
   "pygments_lexer": "ipython3",
   "version": "3.11.5"
  }
 },
 "nbformat": 4,
 "nbformat_minor": 2
}
